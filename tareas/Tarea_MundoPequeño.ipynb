{
 "cells": [
  {
   "cell_type": "code",
   "execution_count": 17,
   "id": "5d953b35-e7fa-4cbb-9114-dd3451ae1a49",
   "metadata": {},
   "outputs": [],
   "source": [
    "import networkx as nx\n",
    "import numpy as np"
   ]
  },
  {
   "cell_type": "code",
   "execution_count": 19,
   "id": "786e2cbb-c9f1-44ce-9b90-49af361d905e",
   "metadata": {},
   "outputs": [],
   "source": [
    "def calcular_imp(G):\n",
    "    if nx.is_connected(G):\n",
    "        \n",
    "        # Coeficiente de agrupamiento y longitud de camino promedio de la red original\n",
    "        C = nx.average_clustering(G)\n",
    "        L = nx.average_shortest_path_length(G)\n",
    "\n",
    "        # Red aleatoria con el mismo número de nodos y aristas\n",
    "        n = G.number_of_nodes()\n",
    "        m = G.number_of_edges()\n",
    "        G_random = nx.gnm_random_graph(n, m)\n",
    "\n",
    "        # Verificar si la red aleatoria es conectada o no \n",
    "        if nx.is_connected(G_random):\n",
    "            # Coeficiente de agrupamiento y longitud de camino promedio de la red aleatoria\n",
    "            C_rand = nx.average_clustering(G_random)\n",
    "            L_rand = nx.average_shortest_path_length(G_random)\n",
    "\n",
    "            # Calcular el índice de mundo pequeño\n",
    "            IMP = (C / C_rand) / (L / L_rand)\n",
    "            return IMP\n",
    "        else:\n",
    "            return \"La red aleatoria no es conectada, por tanto no se puede calcular el índice de mundo pequeño.\"\n",
    "    else:\n",
    "        return \"La red original no es conectada, por lo que no se puede calcular el índice de mundo pequeño.\"\n"
   ]
  },
  {
   "cell_type": "code",
   "execution_count": null,
   "id": "ec9bbc5b-1746-499d-832a-6d08c71943a3",
   "metadata": {},
   "outputs": [],
   "source": []
  }
 ],
 "metadata": {
  "kernelspec": {
   "display_name": "Python 3 (ipykernel)",
   "language": "python",
   "name": "python3"
  },
  "language_info": {
   "codemirror_mode": {
    "name": "ipython",
    "version": 3
   },
   "file_extension": ".py",
   "mimetype": "text/x-python",
   "name": "python",
   "nbconvert_exporter": "python",
   "pygments_lexer": "ipython3",
   "version": "3.12.4"
  }
 },
 "nbformat": 4,
 "nbformat_minor": 5
}
